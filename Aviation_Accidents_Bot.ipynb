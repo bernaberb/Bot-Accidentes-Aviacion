{
  "nbformat": 4,
  "nbformat_minor": 0,
  "metadata": {
    "colab": {
      "name": "Aviation Accidents Bot",
      "provenance": [],
      "mount_file_id": "1SjquMOrk2QM37N9NNQyqqyoXEGyo0LSM",
      "authorship_tag": "ABX9TyP1BBCY9lih9HmWQCMn1Fwb",
      "include_colab_link": true
    },
    "kernelspec": {
      "name": "python3",
      "display_name": "Python 3"
    },
    "language_info": {
      "name": "python"
    }
  },
  "cells": [
    {
      "cell_type": "markdown",
      "metadata": {
        "id": "view-in-github",
        "colab_type": "text"
      },
      "source": [
        "<a href=\"https://colab.research.google.com/github/bernaberb/BotAccidentesAviacion/blob/main/Aviation_Accidents_Bot.ipynb\" target=\"_parent\"><img src=\"https://colab.research.google.com/assets/colab-badge.svg\" alt=\"Open In Colab\"/></a>"
      ]
    },
    {
      "cell_type": "markdown",
      "source": [
        "[This is a bot](https://twitter.com/AirAccidentsBot) that uses data from plane crashes that occurred between 1908 and 2009, with a dataset obtained from [Kaggle](https://www.kaggle.com/saurograndi/airplane-crashes-since-1908).\n",
        "\n",
        "I filtered that data set to keep the data that interests me and thus have the accidents that occurred between 1950 and 2009 with more than 30 fatalities.\n",
        "\n",
        "With the data of the airline and flight number we use the [Wikipedia API](https://en.wikipedia.org/w/api.php) to obtain the link to the article.\n",
        "\n",
        "We generate a text with all the information and it is tweeted using the [Twitter API](https://developer.twitter.com/en/docs/twitter-api) and [Tweepy](https://www.tweepy.org/) in [this Twitter account](https://twitter.com/AirAccidentsBot)."
      ],
      "metadata": {
        "id": "VN8r3NeaGWFf"
      }
    },
    {
      "cell_type": "code",
      "source": [
        "# Installing needed libraries\n",
        "!pip install wikipedia\n",
        "!pip install tweepy --upgrade"
      ],
      "metadata": {
        "id": "bVb4i7Mi-210"
      },
      "execution_count": null,
      "outputs": []
    },
    {
      "cell_type": "code",
      "source": [
        "import pandas as pd \n",
        "\n",
        "from datetime import date, timedelta, datetime\n",
        "from dateutil.relativedelta import relativedelta\n",
        "from google.colab import drive"
      ],
      "metadata": {
        "id": "OZaXIfAPG7ug"
      },
      "execution_count": 2,
      "outputs": []
    },
    {
      "cell_type": "code",
      "source": [
        "# Mounting dataset\n",
        "\n",
        "df = pd.read_csv('../content/drive/MyDrive/Colab Notebooks/Mios Definitivos/Airplane_Crashes_and_Fatalities_Since_1908.csv')"
      ],
      "metadata": {
        "id": "W-y11jBvHt90"
      },
      "execution_count": 3,
      "outputs": []
    },
    {
      "cell_type": "code",
      "source": [
        "# Getting familiar with data\n",
        "\n",
        "df.sample(5)"
      ],
      "metadata": {
        "id": "LqblabJNIPD2"
      },
      "execution_count": null,
      "outputs": []
    },
    {
      "cell_type": "code",
      "source": [
        "# Deleting the columns that do not interest my purposes\n",
        "\n",
        "df.drop(['Time', 'Type', 'Registration', 'cn/In', 'Aboard', 'Ground', 'Summary'], axis=1, inplace=True)\n"
      ],
      "metadata": {
        "id": "AIyZLx8UKz57"
      },
      "execution_count": null,
      "outputs": []
    },
    {
      "cell_type": "code",
      "source": [
        "# Removing rows containing null values\n",
        "\n",
        "df.dropna(inplace=True)\n",
        "\n",
        "# Let's see how it looks now\n",
        "\n",
        "df.sample(5)"
      ],
      "metadata": {
        "id": "_o6MxHCJMqOc"
      },
      "execution_count": null,
      "outputs": []
    },
    {
      "cell_type": "code",
      "source": [
        "# Now I am interested in keeping only the entries that have more than 30 fatalities\n",
        "\n",
        "df.drop(df.index[df['Fatalities'] < 30], inplace=True)"
      ],
      "metadata": {
        "id": "P4jwtscYUKsJ"
      },
      "execution_count": null,
      "outputs": []
    },
    {
      "cell_type": "code",
      "source": [
        "# 'Date' column info is string type, so I convert it to date type to add individual columns with month, day, and year.\n",
        "\n",
        "df['Date'] = pd.to_datetime(df['Date'], format = '%m/%d/%Y')\n",
        "\n",
        "df['Month'] = pd.DatetimeIndex(df['Date']).month\n",
        "df['Day'] = pd.DatetimeIndex(df['Date']).day\n",
        "df['Year'] = pd.DatetimeIndex(df['Date']).year"
      ],
      "metadata": {
        "id": "3Q5nnJkMQk8j"
      },
      "execution_count": null,
      "outputs": []
    },
    {
      "cell_type": "code",
      "source": [
        "# Deleting entries before 1950\n",
        "\n",
        "df.drop(df.index[df['Year'] < 1950], inplace=True)"
      ],
      "metadata": {
        "id": "mgIxgVezHbhr"
      },
      "execution_count": null,
      "outputs": []
    },
    {
      "cell_type": "code",
      "source": [
        "# Saving today's date and month\n",
        "\n",
        "currentDay = datetime.now().day\n",
        "currentMonth = datetime.now().month"
      ],
      "metadata": {
        "id": "wKP0qD9oIzT8"
      },
      "execution_count": null,
      "outputs": []
    },
    {
      "cell_type": "code",
      "source": [
        "# Creating a filter to keep the entries whose day and month correspond to current.\n",
        "\n",
        "isToday = (df['Day']==currentDay) & (df['Month']==currentMonth)\n",
        "\n",
        "# Applying the filter\n",
        "\n",
        "dfHoy = df[isToday]\n",
        "\n",
        "# Let's see if there is any match for today\n",
        "\n",
        "print(dfHoy)\n"
      ],
      "metadata": {
        "id": "qmCqWo2kPiO9"
      },
      "execution_count": null,
      "outputs": []
    },
    {
      "cell_type": "code",
      "source": [
        "# Storing in variables all the information I need. If there is more than one entry for today, it keeps the first one.\n",
        "\n",
        "year = dfHoy.iloc[0]['Year']\n",
        "location = dfHoy.iloc[0]['Location']\n",
        "operator = dfHoy.iloc[0]['Operator']\n",
        "flight = dfHoy.iloc[0]['Flight #']\n",
        "route = dfHoy.iloc[0]['Route']\n",
        "fatalities = dfHoy.iloc[0]['Fatalities']\n",
        "fatalities = fatalities.astype(int)\n"
      ],
      "metadata": {
        "id": "5YV0CrC-Rrcl"
      },
      "execution_count": null,
      "outputs": []
    },
    {
      "cell_type": "code",
      "source": [
        "import wikipedia\n",
        "\n",
        "# Looking for the wikipedia link based on the flight number and airline. It will bring the first match so it works fine. In case nothing is found, the link will be empty.\n",
        "\n",
        "wikiSearch = operator + ' ' + flight\n",
        "try:\n",
        "  linkWiki = wikipedia.page(wikiSearch).url\n",
        "except:\n",
        "  linkWiki = ''\n",
        "print(linkWiki)"
      ],
      "metadata": {
        "id": "yNRKLFeNbYRT"
      },
      "execution_count": null,
      "outputs": []
    },
    {
      "cell_type": "code",
      "source": [
        "# Creating the tweet\n",
        "\n",
        "textTweet = ('On a day like today in ' + str(year) + ', ' + operator + ' ' + str(flight) + ' flight crashed near ' + location + ' while doing the route ' + route + ' causing ' + str(fatalities) + ' fatalities. ' + linkWiki)\n",
        "\n",
        "print(textTweet)"
      ],
      "metadata": {
        "id": "y2O12Yryc0uR"
      },
      "execution_count": null,
      "outputs": []
    },
    {
      "cell_type": "code",
      "source": [
        "import tweepy\n",
        "\n",
        "# Now lets tweet it using Tweepy!\n",
        "\n",
        "# Api Keys from Twitter\n",
        "\n",
        "client = tweepy.Client(bearer_token='XXX')\n",
        "\n",
        "client = tweepy.Client(consumer_key='XXX',\n",
        "                       consumer_secret='XXX',\n",
        "                       access_token='XXX',\n",
        "                       access_token_secret='XXX')\n",
        "\n",
        "# Tweeting!\n",
        "\n",
        "response = client.create_tweet(text=textTweet)\n",
        "\n",
        "print(response)\n"
      ],
      "metadata": {
        "id": "Tyu-MGdZky_j"
      },
      "execution_count": null,
      "outputs": []
    }
  ]
}